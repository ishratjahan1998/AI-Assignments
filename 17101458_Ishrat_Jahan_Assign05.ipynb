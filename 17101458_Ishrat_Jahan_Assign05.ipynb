{
  "nbformat": 4,
  "nbformat_minor": 0,
  "metadata": {
    "colab": {
      "provenance": []
    },
    "kernelspec": {
      "name": "python3",
      "display_name": "Python 3"
    }
  },
  "cells": [
    {
      "cell_type": "code",
      "metadata": {
        "id": "Y_1zU8Lb_VRG"
      },
      "source": [
        "import pandas as pd\n",
        "import numpy as np"
      ],
      "execution_count": null,
      "outputs": []
    },
    {
      "cell_type": "markdown",
      "metadata": {
        "id": "66GsCeAq_402"
      },
      "source": [
        "#Read Data"
      ]
    },
    {
      "cell_type": "code",
      "metadata": {
        "id": "jjoc4yDW_9Rt"
      },
      "source": [
        "dataset = pd.read_csv('/content/drive/MyDrive/mushroom edibility classification dataset.csv')\n",
        "dataset = dataset.drop(columns=['Unnamed: 0'])\n",
        "print(dataset)"
      ],
      "execution_count": null,
      "outputs": []
    },
    {
      "cell_type": "markdown",
      "metadata": {
        "id": "0ZUwFITvBEKm"
      },
      "source": [
        "#Handle Missing Value"
      ]
    },
    {
      "cell_type": "code",
      "metadata": {
        "id": "AAlmWBydBILl"
      },
      "source": [
        "from sklearn.impute import SimpleImputer\n",
        "\n",
        "impute = SimpleImputer(missing_values=np.nan, strategy='most_frequent')\n",
        "\n",
        "for x in dataset.columns:\n",
        "  if dataset[x].isnull().sum() > 0:\n",
        "    impute.fit(dataset[[x]])\n",
        "    dataset[x] = impute.transform(dataset[[x]])\n"
      ],
      "execution_count": null,
      "outputs": []
    },
    {
      "cell_type": "markdown",
      "metadata": {
        "id": "svl5rbOPD-Ec"
      },
      "source": [
        "# Encode Categorical Features"
      ]
    },
    {
      "cell_type": "code",
      "metadata": {
        "id": "qoHIIMlwD-3r"
      },
      "source": [
        "from sklearn.preprocessing import LabelEncoder\n",
        "\n",
        "enc = LabelEncoder()\n",
        "\n",
        "for x in dataset.columns:\n",
        "  if dataset[x].dtype == np.object:\n",
        "    dataset[x] = enc.fit_transform(dataset[x])"
      ],
      "execution_count": null,
      "outputs": []
    },
    {
      "cell_type": "markdown",
      "metadata": {
        "id": "zSwvi-qVE3lL"
      },
      "source": [
        "#Scaling"
      ]
    },
    {
      "cell_type": "code",
      "metadata": {
        "id": "f8hls16kE6ea"
      },
      "source": [
        "from sklearn.preprocessing import MinMaxScaler\n",
        "\n",
        "sc = MinMaxScaler()\n",
        "\n",
        "labels = dataset['class']\n",
        "data = dataset.loc[:, dataset.columns != 'class']\n",
        "\n",
        "data = sc.fit_transform(data)"
      ],
      "execution_count": null,
      "outputs": []
    },
    {
      "cell_type": "markdown",
      "metadata": {
        "id": "etoxg5d2GvTb"
      },
      "source": [
        "# Train Test Split"
      ]
    },
    {
      "cell_type": "code",
      "metadata": {
        "id": "e8QVqOz7GsWs"
      },
      "source": [
        "from sklearn.model_selection import train_test_split\n",
        "\n",
        "data_train, data_test, labels_train, labels_test = train_test_split(data, labels, test_size=0.2, stratify=labels,\n",
        "                                                                    random_state=9598)"
      ],
      "execution_count": null,
      "outputs": []
    },
    {
      "cell_type": "markdown",
      "metadata": {
        "id": "3UvuiQkNICJq"
      },
      "source": [
        "#Logistic Regression"
      ]
    },
    {
      "cell_type": "code",
      "metadata": {
        "id": "YIekZd0PIFxx"
      },
      "source": [
        "from sklearn.linear_model import LogisticRegression\n",
        "from sklearn.metrics import accuracy_score\n",
        "\n",
        "lr = LogisticRegression()\n",
        "\n",
        "lr.fit(data_train, labels_train)\n",
        "\n",
        "prediction = lr.predict(data_test)\n",
        "\n",
        "acc_lr = accuracy_score(labels_test, prediction)\n",
        "print('Accuracy: ' + str(acc_lr))"
      ],
      "execution_count": null,
      "outputs": []
    },
    {
      "cell_type": "markdown",
      "metadata": {
        "id": "uZdpIv7sJoui"
      },
      "source": [
        "# Decision Tree"
      ]
    },
    {
      "cell_type": "code",
      "metadata": {
        "id": "T6gZaWfLJsXB"
      },
      "source": [
        "from sklearn.tree import DecisionTreeClassifier\n",
        "\n",
        "\n",
        "dt = DecisionTreeClassifier()\n",
        "\n",
        "dt.fit(data_train, labels_train)\n",
        "\n",
        "prediction = dt.predict(data_test)\n",
        "\n",
        "acc_dt = accuracy_score(labels_test, prediction)\n",
        "print('Accuracy: ' + str(acc_dt))"
      ],
      "execution_count": null,
      "outputs": []
    },
    {
      "cell_type": "markdown",
      "metadata": {
        "id": "Leiv5p-gKMLH"
      },
      "source": [
        "# Bar Chart"
      ]
    },
    {
      "cell_type": "code",
      "metadata": {
        "id": "54F8LmNFLO34"
      },
      "source": [
        "import matplotlib.pyplot as plt\n",
        "\n",
        "plt.bar(['Logistic Regression', 'Decision Tree'], [acc_lr, acc_dt], color='maroon', width=0.2)\n",
        "\n",
        "plt.xlabel(\"ML Models\")\n",
        "plt.ylabel(\"Accuracy\")\n",
        "plt.title(\"Accuracy of ML Models\")\n",
        "plt.show()"
      ],
      "execution_count": null,
      "outputs": []
    }
  ]
}