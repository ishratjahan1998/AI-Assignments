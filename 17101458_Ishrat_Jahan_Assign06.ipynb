{
  "nbformat": 4,
  "nbformat_minor": 0,
  "metadata": {
    "colab": {
      "provenance": []
    },
    "kernelspec": {
      "name": "python3",
      "display_name": "Python 3"
    }
  },
  "cells": [
    {
      "cell_type": "code",
      "metadata": {
        "id": "PyuFjnoZMsQS"
      },
      "source": [
        "import pandas as pd\n",
        "import numpy as np"
      ],
      "execution_count": null,
      "outputs": []
    },
    {
      "cell_type": "markdown",
      "metadata": {
        "id": "99nByTA5MqpT"
      },
      "source": [
        "#Read Data"
      ]
    },
    {
      "cell_type": "code",
      "metadata": {
        "colab": {
          "base_uri": "https://localhost:8080/"
        },
        "id": "iahiRbn-LPJl",
        "outputId": "c167055f-b144-4999-c606-9661813dd222"
      },
      "source": [
        "dataset = pd.read_csv('/content/drive/MyDrive/mushroom edibility classification dataset.csv')\n",
        "dataset = dataset.drop(columns=['Unnamed: 0'])\n",
        "print(dataset)"
      ],
      "execution_count": null,
      "outputs": [
        {
          "output_type": "stream",
          "text": [
            "          class  cap-shape  cap-surface  ...  spore-print-color population  habitat\n",
            "0     poisonous        5.0            2  ...                  2          3        5\n",
            "1        edible        5.0            2  ...                  3          2        1\n",
            "2        edible        0.0            2  ...                  3          2        3\n",
            "3     poisonous        5.0            3  ...                  2          3        5\n",
            "4        edible        5.0            2  ...                  3          0        1\n",
            "...         ...        ...          ...  ...                ...        ...      ...\n",
            "3119  poisonous        5.0            0  ...                  3          4        0\n",
            "3120     edible        2.0            0  ...                  2          5        0\n",
            "3121     edible        2.0            3  ...                  3          5        0\n",
            "3122  poisonous        5.0            0  ...                  1          5        0\n",
            "3123     edible        5.0            3  ...                  2          4        0\n",
            "\n",
            "[3124 rows x 19 columns]\n"
          ],
          "name": "stdout"
        }
      ]
    },
    {
      "cell_type": "markdown",
      "metadata": {
        "id": "c6g82M_HMxZx"
      },
      "source": [
        "#Handle Missing Value"
      ]
    },
    {
      "cell_type": "code",
      "metadata": {
        "id": "1QyDcPBnM1lp"
      },
      "source": [
        "from sklearn.impute import SimpleImputer\n",
        "\n",
        "impute = SimpleImputer(missing_values=np.nan, strategy='most_frequent')\n",
        "\n",
        "for x in dataset.columns:\n",
        "  if dataset[x].isnull().sum() > 0:\n",
        "    impute.fit(dataset[[x]])\n",
        "    dataset[x] = impute.transform(dataset[[x]])\n"
      ],
      "execution_count": null,
      "outputs": []
    },
    {
      "cell_type": "markdown",
      "metadata": {
        "id": "iZhdEfDOM4AD"
      },
      "source": [
        "# Encode Categorical Features"
      ]
    },
    {
      "cell_type": "code",
      "metadata": {
        "id": "1tM00uIwM5KJ"
      },
      "source": [
        "from sklearn.preprocessing import LabelEncoder\n",
        "\n",
        "enc = LabelEncoder()\n",
        "\n",
        "for x in dataset.columns:\n",
        "  if dataset[x].dtype == np.object:\n",
        "    dataset[x] = enc.fit_transform(dataset[x])"
      ],
      "execution_count": null,
      "outputs": []
    },
    {
      "cell_type": "markdown",
      "metadata": {
        "id": "uxqb6wHeM65x"
      },
      "source": [
        "#Scaling"
      ]
    },
    {
      "cell_type": "code",
      "metadata": {
        "id": "Qc6Gu7_kM6A8"
      },
      "source": [
        "from sklearn.preprocessing import MinMaxScaler\n",
        "\n",
        "sc = MinMaxScaler()\n",
        "\n",
        "labels = dataset['class']\n",
        "data = dataset.loc[:, dataset.columns != 'class']\n",
        "\n",
        "data = sc.fit_transform(data)"
      ],
      "execution_count": null,
      "outputs": []
    },
    {
      "cell_type": "markdown",
      "metadata": {
        "id": "9rd7P5pdNATB"
      },
      "source": [
        "# Train Test Split"
      ]
    },
    {
      "cell_type": "code",
      "metadata": {
        "id": "3M9VmfilM_1J"
      },
      "source": [
        "from sklearn.model_selection import train_test_split\n",
        "\n",
        "data_train, data_test, labels_train, labels_test = train_test_split(data, labels, test_size=0.2, random_state=9598)"
      ],
      "execution_count": null,
      "outputs": []
    },
    {
      "cell_type": "markdown",
      "metadata": {
        "id": "PHslqdyfREcx"
      },
      "source": [
        "# Support Vector Machine"
      ]
    },
    {
      "cell_type": "code",
      "metadata": {
        "colab": {
          "base_uri": "https://localhost:8080/"
        },
        "id": "a8ZUnyuxRDmw",
        "outputId": "04b11df7-a777-4a61-8b81-5c62d83625d4"
      },
      "source": [
        "from sklearn.svm import SVC\n",
        "from sklearn.metrics import accuracy_score\n",
        "\n",
        "svc = SVC()\n",
        "\n",
        "svc.fit(data_train, labels_train)\n",
        "\n",
        "prediction = svc.predict(data_test)\n",
        "\n",
        "acc_svc = accuracy_score(labels_test, prediction)\n",
        "print('Accuracy: ' + str(acc_svc))"
      ],
      "execution_count": null,
      "outputs": [
        {
          "output_type": "stream",
          "text": [
            "Accuracy: 1.0\n"
          ],
          "name": "stdout"
        }
      ]
    },
    {
      "cell_type": "markdown",
      "metadata": {
        "id": "Gd7j1QY8RHGX"
      },
      "source": [
        "# MLP Classifier"
      ]
    },
    {
      "cell_type": "code",
      "metadata": {
        "colab": {
          "base_uri": "https://localhost:8080/"
        },
        "id": "hVqLLmNnNCOO",
        "outputId": "a339bf66-58d9-4745-a45e-0e39da101ce8"
      },
      "source": [
        "from sklearn.neural_network import MLPClassifier\n",
        "\n",
        "mlp = MLPClassifier()\n",
        "\n",
        "mlp.fit(data_train, labels_train)\n",
        "\n",
        "prediction = mlp.predict(data_test)\n",
        "\n",
        "acc_mlp = accuracy_score(labels_test, prediction)\n",
        "print('Accuracy: ' + str(acc_mlp))\n"
      ],
      "execution_count": null,
      "outputs": [
        {
          "output_type": "stream",
          "text": [
            "Accuracy: 1.0\n"
          ],
          "name": "stdout"
        }
      ]
    },
    {
      "cell_type": "markdown",
      "metadata": {
        "id": "QMHgrxUoRJtm"
      },
      "source": [
        "# Random Forest"
      ]
    },
    {
      "cell_type": "code",
      "metadata": {
        "colab": {
          "base_uri": "https://localhost:8080/"
        },
        "id": "FbG4ce84RLEY",
        "outputId": "b128e209-e520-43e5-d870-3574c67f54ac"
      },
      "source": [
        "from sklearn.ensemble import RandomForestClassifier\n",
        "\n",
        "rfc = RandomForestClassifier()\n",
        "\n",
        "rfc.fit(data_train, labels_train)\n",
        "\n",
        "prediction = rfc.predict(data_test)\n",
        "\n",
        "acc_rfc = accuracy_score(labels_test, prediction)\n",
        "print('Accuracy: ' + str(acc_rfc))"
      ],
      "execution_count": null,
      "outputs": [
        {
          "output_type": "stream",
          "text": [
            "Accuracy: 1.0\n"
          ],
          "name": "stdout"
        }
      ]
    },
    {
      "cell_type": "markdown",
      "metadata": {
        "id": "vFVtH5ypWRQF"
      },
      "source": [
        "# Apply PCA"
      ]
    },
    {
      "cell_type": "code",
      "metadata": {
        "id": "hGLSg34kWTUT"
      },
      "source": [
        "from sklearn.decomposition import PCA\n",
        "\n",
        "num_of_columns = data_train.shape[1]\n",
        "\n",
        "pca = PCA(n_components=int(num_of_columns/2))\n",
        "\n",
        "pca.fit(data_train)\n",
        "\n",
        "data_train = pca.transform(data_train)\n",
        "data_test = pca.transform(data_test)"
      ],
      "execution_count": null,
      "outputs": []
    },
    {
      "cell_type": "markdown",
      "metadata": {
        "id": "4trl7D6UYMiD"
      },
      "source": [
        "# Support Vector Machine"
      ]
    },
    {
      "cell_type": "code",
      "metadata": {
        "colab": {
          "base_uri": "https://localhost:8080/"
        },
        "id": "wk4IGs9ZYP5C",
        "outputId": "f13ecf59-186f-4be6-b83c-57ceb9774e42"
      },
      "source": [
        "from sklearn.svm import SVC\n",
        "from sklearn.metrics import accuracy_score\n",
        "\n",
        "svc = SVC()\n",
        "\n",
        "svc.fit(data_train, labels_train)\n",
        "\n",
        "prediction = svc.predict(data_test)\n",
        "\n",
        "acc_svc_pca = accuracy_score(labels_test, prediction)\n",
        "print('Accuracy: ' + str(acc_svc_pca))"
      ],
      "execution_count": null,
      "outputs": [
        {
          "output_type": "stream",
          "text": [
            "Accuracy: 1.0\n"
          ],
          "name": "stdout"
        }
      ]
    },
    {
      "cell_type": "markdown",
      "metadata": {
        "id": "bRaZMdhEYTab"
      },
      "source": [
        "# MLP Classifier"
      ]
    },
    {
      "cell_type": "code",
      "metadata": {
        "colab": {
          "base_uri": "https://localhost:8080/"
        },
        "id": "5coJ0v0iYVy7",
        "outputId": "d1e5d54b-a802-4bb3-9755-a1f50e3f8175"
      },
      "source": [
        "from sklearn.neural_network import MLPClassifier\n",
        "\n",
        "mlp = MLPClassifier()\n",
        "\n",
        "mlp.fit(data_train, labels_train)\n",
        "\n",
        "prediction = mlp.predict(data_test)\n",
        "\n",
        "acc_mlp_pca = accuracy_score(labels_test, prediction)\n",
        "print('Accuracy: ' + str(acc_mlp_pca))\n"
      ],
      "execution_count": null,
      "outputs": [
        {
          "output_type": "stream",
          "text": [
            "Accuracy: 1.0\n"
          ],
          "name": "stdout"
        }
      ]
    },
    {
      "cell_type": "markdown",
      "metadata": {
        "id": "bwvYBp_BYZub"
      },
      "source": [
        "# Random Forest"
      ]
    },
    {
      "cell_type": "code",
      "metadata": {
        "colab": {
          "base_uri": "https://localhost:8080/"
        },
        "id": "rs63dyuMYcab",
        "outputId": "cb088ec2-9b02-4c43-e77e-eb55ff0dc33d"
      },
      "source": [
        "from sklearn.ensemble import RandomForestClassifier\n",
        "\n",
        "rfc = RandomForestClassifier()\n",
        "\n",
        "rfc.fit(data_train, labels_train)\n",
        "\n",
        "prediction = rfc.predict(data_test)\n",
        "\n",
        "acc_rfc_pca = accuracy_score(labels_test, prediction)\n",
        "print('Accuracy: ' + str(acc_rfc_pca))"
      ],
      "execution_count": null,
      "outputs": [
        {
          "output_type": "stream",
          "text": [
            "Accuracy: 1.0\n"
          ],
          "name": "stdout"
        }
      ]
    },
    {
      "cell_type": "markdown",
      "metadata": {
        "id": "aEcRHQV0ZB40"
      },
      "source": [
        "# Bar Plot"
      ]
    },
    {
      "cell_type": "code",
      "metadata": {
        "colab": {
          "base_uri": "https://localhost:8080/",
          "height": 497
        },
        "id": "S6uVcr1zZBdt",
        "outputId": "05659882-672e-49ac-a6ec-e80625d3bf7d"
      },
      "source": [
        "import matplotlib\n",
        "import matplotlib.pyplot as plt\n",
        "\n",
        "fig = plt.subplots(figsize =(12, 8))\n",
        "\n",
        "models = ['Support Vector Machine', 'MLP Classifier', 'Random Forest']\n",
        "\n",
        "pre_pca_accuracies = [acc_svc, acc_mlp, acc_rfc]\n",
        "post_pca_accuracies = [acc_svc_pca, acc_mlp_pca, acc_rfc_pca]\n",
        "\n",
        "plt.bar([2, 6, 10], pre_pca_accuracies, width=1, label='Pre PCA')\n",
        "plt.bar([3, 7, 11], post_pca_accuracies, width=1, label='Post PCA')\n",
        "plt.xlabel('Models', fontweight ='bold')\n",
        "plt.ylabel('Accuracies', fontweight ='bold')\n",
        "\n",
        "plt.xticks([2.5, 6.5, 10.5], models)\n",
        "plt.legend()\n",
        "plt.show()"
      ],
      "execution_count": null,
      "outputs": [
        {
          "output_type": "display_data",
          "data": {
            "image/png": "[encoded data removed]",
            "text/plain": [
              "<Figure size 864x576 with 1 Axes>"
            ]
          },
          "metadata": {
            "tags": [],
            "needs_background": "light"
          }
        }
      ]
    }
  ]
}